{
  "nbformat": 4,
  "nbformat_minor": 0,
  "metadata": {
    "colab": {
      "name": "Brain Tumor Classification.ipynb",
      "provenance": []
    },
    "kernelspec": {
      "name": "python3",
      "display_name": "Python 3"
    },
    "language_info": {
      "name": "python"
    }
  },
  "cells": [
    {
      "cell_type": "code",
      "execution_count": 1,
      "metadata": {
        "id": "vTR4AqNNdYOt"
      },
      "outputs": [],
      "source": [
        "from keras.preprocessing.image import ImageDataGenerator, array_to_img, img_to_array, load_img\n",
        "from keras.models import Sequential\n",
        "from keras.layers import Conv2D, MaxPooling2D\n",
        "from keras.layers import Activation, Dropout, Flatten, Dense\n",
        "from keras.preprocessing import image\n",
        "import numpy as np\n",
        "from keras import backend as K"
      ]
    },
    {
      "cell_type": "code",
      "source": [
        "img_width, img_height = 150, 150\n",
        "train_dir = '/content/drive/MyDrive/Brain Tumor Project/TRAIN'\n",
        "validation_data_dir = '/content/drive/MyDrive/Brain Tumor Project/TEST'\n",
        "nb_train_sample = 3000\n",
        "nb_validation_sample = 1600\n",
        "epochs = 50\n",
        "batch_size = 20"
      ],
      "metadata": {
        "id": "nT9YdzeadgFK"
      },
      "execution_count": 2,
      "outputs": []
    },
    {
      "cell_type": "code",
      "source": [
        "# MODEL\n",
        "if K.image_data_format() == 'channels_first':\n",
        "    input_shape = (3,img_height,img_width)\n",
        "else:\n",
        "    input_shape = (img_height,img_width,3)"
      ],
      "metadata": {
        "id": "qKaq5xvOfxAE"
      },
      "execution_count": 3,
      "outputs": []
    },
    {
      "cell_type": "code",
      "source": [
        "train_datagen = ImageDataGenerator(rescale = 1. /255,\n",
        "                                  shear_range = 0.2,\n",
        "                                  zoom_range=0.2,\n",
        "                                  horizontal_flip=True)"
      ],
      "metadata": {
        "id": "H8prD7wof4ZQ"
      },
      "execution_count": 4,
      "outputs": []
    },
    {
      "cell_type": "code",
      "source": [
        "test_datagen = ImageDataGenerator(rescale=1./255)"
      ],
      "metadata": {
        "id": "U38gEBqAf9jn"
      },
      "execution_count": 5,
      "outputs": []
    },
    {
      "cell_type": "code",
      "source": [
        "train_generator = train_datagen.flow_from_directory(train_dir,target_size=(img_width,img_height),\n",
        "                                                   batch_size=batch_size,class_mode='binary')"
      ],
      "metadata": {
        "id": "Mqc6LH3vgBot",
        "outputId": "2b4bafe5-9ff4-422d-c106-6b4a75bf9fdc",
        "colab": {
          "base_uri": "https://localhost:8080/"
        }
      },
      "execution_count": 6,
      "outputs": [
        {
          "output_type": "stream",
          "name": "stdout",
          "text": [
            "Found 3000 images belonging to 2 classes.\n"
          ]
        }
      ]
    },
    {
      "cell_type": "code",
      "source": [
        "validation_generator = test_datagen.flow_from_directory(validation_data_dir,target_size=(img_width,img_height),\n",
        "                                                   batch_size=batch_size,class_mode='binary')"
      ],
      "metadata": {
        "colab": {
          "base_uri": "https://localhost:8080/"
        },
        "id": "wxKgtO3pm_Ll",
        "outputId": "1b380232-fc5c-4d66-9820-170f06492d4d"
      },
      "execution_count": 7,
      "outputs": [
        {
          "output_type": "stream",
          "name": "stdout",
          "text": [
            "Found 1668 images belonging to 2 classes.\n"
          ]
        }
      ]
    },
    {
      "cell_type": "code",
      "source": [
        "model = Sequential();\n",
        "model.add(Conv2D(32, (3, 3), input_shape=input_shape));\n",
        "model.add(Activation('relu'));\n",
        "model.add(MaxPooling2D(pool_size=(2, 2)));\n",
        "#model.summary()"
      ],
      "metadata": {
        "id": "dKVTMJM2nCmM"
      },
      "execution_count": 8,
      "outputs": []
    },
    {
      "cell_type": "code",
      "source": [
        "model.add(Conv2D(32, (3, 3)));\n",
        "model.add(Activation('relu'));\n",
        "model.add(MaxPooling2D(pool_size=(2, 2)));"
      ],
      "metadata": {
        "id": "IiObUUIBnGxC"
      },
      "execution_count": 9,
      "outputs": []
    },
    {
      "cell_type": "code",
      "source": [
        "model.add(Conv2D(64, (3, 3)));\n",
        "model.add(Activation('relu'));\n",
        "model.add(MaxPooling2D(pool_size=(2, 2)));"
      ],
      "metadata": {
        "id": "aX2wXVTvnLPd"
      },
      "execution_count": 10,
      "outputs": []
    },
    {
      "cell_type": "code",
      "source": [
        "model.add(Flatten());\n",
        "model.add(Dense(64));\n",
        "model.add(Activation('relu'));\n",
        "model.add(Dropout(0.5));\n",
        "model.add(Dense(1));\n",
        "model.add(Activation('sigmoid'));"
      ],
      "metadata": {
        "id": "6a-UPIx7nO8e"
      },
      "execution_count": 11,
      "outputs": []
    },
    {
      "cell_type": "code",
      "source": [
        "model.compile(loss='binary_crossentropy',optimizer='rmsprop',metrics = ['accuracy'])"
      ],
      "metadata": {
        "id": "xUUXf9iVnUam"
      },
      "execution_count": 12,
      "outputs": []
    },
    {
      "cell_type": "code",
      "source": [
        "history = model.fit_generator(train_generator,\n",
        "                    steps_per_epoch= nb_train_sample // batch_size,\n",
        "                    epochs=25,\n",
        "                    validation_data=validation_generator,\n",
        "                    validation_steps = nb_validation_sample // batch_size)"
      ],
      "metadata": {
        "colab": {
          "base_uri": "https://localhost:8080/"
        },
        "id": "3M388ukdndMe",
        "outputId": "3c8cf3dd-a18c-48b7-ffda-09a4adb3e7ce"
      },
      "execution_count": 13,
      "outputs": [
        {
          "output_type": "stream",
          "name": "stderr",
          "text": [
            "/usr/local/lib/python3.7/dist-packages/ipykernel_launcher.py:5: UserWarning: `Model.fit_generator` is deprecated and will be removed in a future version. Please use `Model.fit`, which supports generators.\n",
            "  \"\"\"\n"
          ]
        },
        {
          "output_type": "stream",
          "name": "stdout",
          "text": [
            "Epoch 1/25\n",
            "150/150 [==============================] - 670s 4s/step - loss: 0.5946 - accuracy: 0.6950 - val_loss: 0.8468 - val_accuracy: 0.6706\n",
            "Epoch 2/25\n",
            "150/150 [==============================] - 120s 799ms/step - loss: 0.4706 - accuracy: 0.7907 - val_loss: 0.3821 - val_accuracy: 0.8413\n",
            "Epoch 3/25\n",
            "150/150 [==============================] - 114s 758ms/step - loss: 0.4051 - accuracy: 0.8247 - val_loss: 0.3079 - val_accuracy: 0.8731\n",
            "Epoch 4/25\n",
            "150/150 [==============================] - 114s 758ms/step - loss: 0.3537 - accuracy: 0.8510 - val_loss: 0.2986 - val_accuracy: 0.8856\n",
            "Epoch 5/25\n",
            "150/150 [==============================] - 114s 762ms/step - loss: 0.3153 - accuracy: 0.8730 - val_loss: 0.3321 - val_accuracy: 0.8681\n",
            "Epoch 6/25\n",
            "150/150 [==============================] - 115s 767ms/step - loss: 0.2635 - accuracy: 0.8910 - val_loss: 0.2149 - val_accuracy: 0.9112\n",
            "Epoch 7/25\n",
            "150/150 [==============================] - 115s 764ms/step - loss: 0.2357 - accuracy: 0.9040 - val_loss: 0.1832 - val_accuracy: 0.9250\n",
            "Epoch 8/25\n",
            "150/150 [==============================] - 115s 763ms/step - loss: 0.2098 - accuracy: 0.9177 - val_loss: 0.3546 - val_accuracy: 0.8506\n",
            "Epoch 9/25\n",
            "150/150 [==============================] - 114s 758ms/step - loss: 0.1905 - accuracy: 0.9243 - val_loss: 0.1635 - val_accuracy: 0.9413\n",
            "Epoch 10/25\n",
            "150/150 [==============================] - 113s 755ms/step - loss: 0.1773 - accuracy: 0.9327 - val_loss: 0.1552 - val_accuracy: 0.9444\n",
            "Epoch 11/25\n",
            "150/150 [==============================] - 115s 764ms/step - loss: 0.1556 - accuracy: 0.9527 - val_loss: 0.0969 - val_accuracy: 0.9669\n",
            "Epoch 12/25\n",
            "150/150 [==============================] - 114s 761ms/step - loss: 0.1422 - accuracy: 0.9483 - val_loss: 0.0996 - val_accuracy: 0.9619\n",
            "Epoch 13/25\n",
            "150/150 [==============================] - 114s 761ms/step - loss: 0.1352 - accuracy: 0.9567 - val_loss: 0.0819 - val_accuracy: 0.9706\n",
            "Epoch 14/25\n",
            "150/150 [==============================] - 114s 757ms/step - loss: 0.1259 - accuracy: 0.9593 - val_loss: 0.1289 - val_accuracy: 0.9588\n",
            "Epoch 15/25\n",
            "150/150 [==============================] - 114s 758ms/step - loss: 0.1127 - accuracy: 0.9653 - val_loss: 0.1077 - val_accuracy: 0.9625\n",
            "Epoch 16/25\n",
            "150/150 [==============================] - 114s 757ms/step - loss: 0.1140 - accuracy: 0.9630 - val_loss: 0.0498 - val_accuracy: 0.9856\n",
            "Epoch 17/25\n",
            "150/150 [==============================] - 114s 757ms/step - loss: 0.1049 - accuracy: 0.9690 - val_loss: 0.0587 - val_accuracy: 0.9812\n",
            "Epoch 18/25\n",
            "150/150 [==============================] - 114s 758ms/step - loss: 0.1116 - accuracy: 0.9670 - val_loss: 0.0617 - val_accuracy: 0.9806\n",
            "Epoch 19/25\n",
            "150/150 [==============================] - 114s 762ms/step - loss: 0.1017 - accuracy: 0.9640 - val_loss: 0.0484 - val_accuracy: 0.9869\n",
            "Epoch 20/25\n",
            "150/150 [==============================] - 114s 759ms/step - loss: 0.1008 - accuracy: 0.9667 - val_loss: 0.1492 - val_accuracy: 0.9563\n",
            "Epoch 21/25\n",
            "150/150 [==============================] - 114s 760ms/step - loss: 0.1019 - accuracy: 0.9687 - val_loss: 0.0931 - val_accuracy: 0.9712\n",
            "Epoch 22/25\n",
            "150/150 [==============================] - 114s 758ms/step - loss: 0.0948 - accuracy: 0.9707 - val_loss: 0.2634 - val_accuracy: 0.9194\n",
            "Epoch 23/25\n",
            "150/150 [==============================] - 113s 753ms/step - loss: 0.1040 - accuracy: 0.9617 - val_loss: 0.0818 - val_accuracy: 0.9756\n",
            "Epoch 24/25\n",
            "150/150 [==============================] - 114s 758ms/step - loss: 0.0964 - accuracy: 0.9713 - val_loss: 0.2336 - val_accuracy: 0.9381\n",
            "Epoch 25/25\n",
            "150/150 [==============================] - 117s 780ms/step - loss: 0.0938 - accuracy: 0.9740 - val_loss: 0.0464 - val_accuracy: 0.9862\n"
          ]
        }
      ]
    },
    {
      "cell_type": "code",
      "source": [
        "model.save('model3.h5')"
      ],
      "metadata": {
        "id": "Mw4Xa1WDngU4"
      },
      "execution_count": 14,
      "outputs": []
    },
    {
      "cell_type": "code",
      "source": [
        "import matplotlib.pyplot as plt"
      ],
      "metadata": {
        "id": "uG5FJvX939YU"
      },
      "execution_count": 15,
      "outputs": []
    },
    {
      "cell_type": "code",
      "source": [
        "# plot the training loss and accuracy\n",
        "N = 25\n",
        "plt.style.use(\"ggplot\")\n",
        "plt.figure()\n",
        "plt.plot(np.arange(0, N), history.history[\"loss\"], label=\"loss\")\n",
        "plt.plot(np.arange(0, N), history.history[\"accuracy\"], label=\"accuracy\")\n",
        "plt.title(\"Training Loss and Accuracy\")\n",
        "plt.xlabel(\"Epoch #\")\n",
        "plt.ylabel(\"Loss/Accuracy\")\n",
        "plt.legend(loc=\"center right\")\n",
        "plt.savefig(\"CNN_Model\")"
      ],
      "metadata": {
        "colab": {
          "base_uri": "https://localhost:8080/",
          "height": 299
        },
        "id": "XeGj-vyyns80",
        "outputId": "4c8abfe7-b211-49f6-a737-15e9d1af48a5"
      },
      "execution_count": 16,
      "outputs": [
        {
          "output_type": "display_data",
          "data": {
            "image/png": "[encoded data removed]",
            "text/plain": [
              "<Figure size 432x288 with 1 Axes>"
            ]
          },
          "metadata": {}
        }
      ]
    }
  ]
}