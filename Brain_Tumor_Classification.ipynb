{
  "nbformat": 4,
  "nbformat_minor": 0,
  "metadata": {
    "colab": {
      "name": "Brain Tumor Classification.ipynb",
      "provenance": []
    },
    "kernelspec": {
      "name": "python3",
      "display_name": "Python 3"
    },
    "language_info": {
      "name": "python"
    }
  },
  "cells": [
    {
      "cell_type": "code",
      "execution_count": 7,
      "metadata": {
        "id": "vTR4AqNNdYOt"
      },
      "outputs": [],
      "source": [
        "from keras.preprocessing.image import ImageDataGenerator, array_to_img, img_to_array, load_img\n",
        "from keras.models import Sequential\n",
        "from keras.layers import Conv2D, MaxPooling2D\n",
        "from keras.layers import Activation, Dropout, Flatten, Dense\n",
        "from keras.preprocessing import image\n",
        "import numpy as np\n",
        "from keras import backend as K"
      ]
    },
    {
      "cell_type": "code",
      "source": [
        "img_width, img_height = 150, 150\n",
        "train_dir = '/content/drive/MyDrive/Brain Tumor Project/TRAIN'\n",
        "validation_data_dir = '/content/drive/MyDrive/Brain Tumor Project/TEST'\n",
        "nb_train_sample = 3000\n",
        "nb_validation_sample = 1600\n",
        "epochs = 50\n",
        "batch_size = 20"
      ],
      "metadata": {
        "id": "nT9YdzeadgFK"
      },
      "execution_count": 8,
      "outputs": []
    },
    {
      "cell_type": "code",
      "source": [
        "# MODEL\n",
        "if K.image_data_format() == 'channels_first':\n",
        "    input_shape = (3,img_height,img_width)\n",
        "else:\n",
        "    input_shape = (img_height,img_width,3)"
      ],
      "metadata": {
        "id": "qKaq5xvOfxAE"
      },
      "execution_count": 9,
      "outputs": []
    },
    {
      "cell_type": "code",
      "source": [
        "train_datagen = ImageDataGenerator(rescale = 1. /255,\n",
        "                                  shear_range = 0.2,\n",
        "                                  zoom_range=0.2,\n",
        "                                  horizontal_flip=True)"
      ],
      "metadata": {
        "id": "H8prD7wof4ZQ"
      },
      "execution_count": 10,
      "outputs": []
    },
    {
      "cell_type": "code",
      "source": [
        "test_datagen = ImageDataGenerator(rescale=1./255)"
      ],
      "metadata": {
        "id": "U38gEBqAf9jn"
      },
      "execution_count": 11,
      "outputs": []
    },
    {
      "cell_type": "code",
      "source": [
        "train_generator = train_datagen.flow_from_directory(train_dir,target_size=(img_width,img_height),\n",
        "                                                   batch_size=batch_size,class_mode='binary')"
      ],
      "metadata": {
        "id": "Mqc6LH3vgBot",
        "outputId": "24acd0bf-b2e6-4395-ed8b-b94b9f21d209",
        "colab": {
          "base_uri": "https://localhost:8080/"
        }
      },
      "execution_count": 12,
      "outputs": [
        {
          "output_type": "stream",
          "name": "stdout",
          "text": [
            "Found 2999 images belonging to 2 classes.\n"
          ]
        }
      ]
    },
    {
      "cell_type": "code",
      "source": [
        "validation_generator = test_datagen.flow_from_directory(validation_data_dir,target_size=(img_width,img_height),\n",
        "                                                   batch_size=batch_size,class_mode='binary')"
      ],
      "metadata": {
        "colab": {
          "base_uri": "https://localhost:8080/"
        },
        "id": "wxKgtO3pm_Ll",
        "outputId": "5e8fa625-4ed0-4401-e478-f82570d57063"
      },
      "execution_count": 13,
      "outputs": [
        {
          "output_type": "stream",
          "name": "stdout",
          "text": [
            "Found 1667 images belonging to 2 classes.\n"
          ]
        }
      ]
    },
    {
      "cell_type": "code",
      "source": [
        "model = Sequential();\n",
        "model.add(Conv2D(32, (3, 3), input_shape=input_shape));\n",
        "model.add(Activation('relu'));\n",
        "model.add(MaxPooling2D(pool_size=(2, 2)));\n",
        "#model.summary()"
      ],
      "metadata": {
        "id": "dKVTMJM2nCmM"
      },
      "execution_count": 14,
      "outputs": []
    },
    {
      "cell_type": "code",
      "source": [
        "model.add(Conv2D(32, (3, 3)));\n",
        "model.add(Activation('relu'));\n",
        "model.add(MaxPooling2D(pool_size=(2, 2)));"
      ],
      "metadata": {
        "id": "IiObUUIBnGxC"
      },
      "execution_count": 15,
      "outputs": []
    },
    {
      "cell_type": "code",
      "source": [
        "model.add(Conv2D(64, (3, 3)));\n",
        "model.add(Activation('relu'));\n",
        "model.add(MaxPooling2D(pool_size=(2, 2)));"
      ],
      "metadata": {
        "id": "aX2wXVTvnLPd"
      },
      "execution_count": 16,
      "outputs": []
    },
    {
      "cell_type": "code",
      "source": [
        "model.add(Flatten());\n",
        "model.add(Dense(64));\n",
        "model.add(Activation('relu'));\n",
        "model.add(Dropout(0.5));\n",
        "model.add(Dense(1));\n",
        "model.add(Activation('sigmoid'));"
      ],
      "metadata": {
        "id": "6a-UPIx7nO8e"
      },
      "execution_count": 17,
      "outputs": []
    },
    {
      "cell_type": "code",
      "source": [
        "model.compile(loss='binary_crossentropy',optimizer='rmsprop',metrics = ['accuracy'])"
      ],
      "metadata": {
        "id": "xUUXf9iVnUam"
      },
      "execution_count": 18,
      "outputs": []
    },
    {
      "cell_type": "code",
      "source": [
        "history = model.fit_generator(train_generator,\n",
        "                    steps_per_epoch= nb_train_sample // batch_size,\n",
        "                    epochs=25,\n",
        "                    validation_data=validation_generator,\n",
        "                    validation_steps = nb_validation_sample // batch_size)"
      ],
      "metadata": {
        "colab": {
          "base_uri": "https://localhost:8080/"
        },
        "id": "3M388ukdndMe",
        "outputId": "b4e60ccb-ab95-4866-acd2-6be9e80760c5"
      },
      "execution_count": 19,
      "outputs": [
        {
          "output_type": "stream",
          "name": "stderr",
          "text": [
            "/usr/local/lib/python3.7/dist-packages/ipykernel_launcher.py:5: UserWarning: `Model.fit_generator` is deprecated and will be removed in a future version. Please use `Model.fit`, which supports generators.\n",
            "  \"\"\"\n"
          ]
        },
        {
          "output_type": "stream",
          "name": "stdout",
          "text": [
            "Epoch 1/25\n",
            "150/150 [==============================] - 680s 4s/step - loss: 0.5987 - accuracy: 0.7022 - val_loss: 0.4818 - val_accuracy: 0.7775\n",
            "Epoch 2/25\n",
            "150/150 [==============================] - 122s 815ms/step - loss: 0.4629 - accuracy: 0.7886 - val_loss: 0.5130 - val_accuracy: 0.7706\n",
            "Epoch 3/25\n",
            "150/150 [==============================] - 116s 771ms/step - loss: 0.4004 - accuracy: 0.8306 - val_loss: 0.3496 - val_accuracy: 0.8550\n",
            "Epoch 4/25\n",
            "150/150 [==============================] - 117s 779ms/step - loss: 0.3477 - accuracy: 0.8566 - val_loss: 0.8428 - val_accuracy: 0.7125\n",
            "Epoch 5/25\n",
            "150/150 [==============================] - 116s 775ms/step - loss: 0.3086 - accuracy: 0.8823 - val_loss: 0.4694 - val_accuracy: 0.8256\n",
            "Epoch 6/25\n",
            "150/150 [==============================] - 117s 776ms/step - loss: 0.2569 - accuracy: 0.9030 - val_loss: 0.1889 - val_accuracy: 0.9131\n",
            "Epoch 7/25\n",
            "150/150 [==============================] - 116s 772ms/step - loss: 0.2326 - accuracy: 0.9096 - val_loss: 0.2118 - val_accuracy: 0.9187\n",
            "Epoch 8/25\n",
            "150/150 [==============================] - 116s 774ms/step - loss: 0.2016 - accuracy: 0.9246 - val_loss: 0.1911 - val_accuracy: 0.9244\n",
            "Epoch 9/25\n",
            "150/150 [==============================] - 116s 774ms/step - loss: 0.1826 - accuracy: 0.9296 - val_loss: 0.2156 - val_accuracy: 0.9169\n",
            "Epoch 10/25\n",
            "150/150 [==============================] - 116s 770ms/step - loss: 0.1673 - accuracy: 0.9356 - val_loss: 0.1071 - val_accuracy: 0.9600\n",
            "Epoch 11/25\n",
            "150/150 [==============================] - 115s 769ms/step - loss: 0.1661 - accuracy: 0.9376 - val_loss: 0.2084 - val_accuracy: 0.9419\n",
            "Epoch 12/25\n",
            "150/150 [==============================] - 116s 770ms/step - loss: 0.1622 - accuracy: 0.9483 - val_loss: 0.0700 - val_accuracy: 0.9750\n",
            "Epoch 13/25\n",
            "150/150 [==============================] - 116s 773ms/step - loss: 0.1292 - accuracy: 0.9523 - val_loss: 0.1265 - val_accuracy: 0.9588\n",
            "Epoch 14/25\n",
            "150/150 [==============================] - 116s 773ms/step - loss: 0.1284 - accuracy: 0.9550 - val_loss: 0.1134 - val_accuracy: 0.9663\n",
            "Epoch 15/25\n",
            "150/150 [==============================] - 117s 776ms/step - loss: 0.1213 - accuracy: 0.9613 - val_loss: 0.1547 - val_accuracy: 0.9494\n",
            "Epoch 16/25\n",
            "150/150 [==============================] - 116s 774ms/step - loss: 0.1077 - accuracy: 0.9620 - val_loss: 0.1637 - val_accuracy: 0.9419\n",
            "Epoch 17/25\n",
            "150/150 [==============================] - 116s 772ms/step - loss: 0.1119 - accuracy: 0.9620 - val_loss: 0.0817 - val_accuracy: 0.9737\n",
            "Epoch 18/25\n",
            "150/150 [==============================] - 116s 776ms/step - loss: 0.1130 - accuracy: 0.9667 - val_loss: 0.0659 - val_accuracy: 0.9800\n",
            "Epoch 19/25\n",
            "150/150 [==============================] - 116s 772ms/step - loss: 0.1184 - accuracy: 0.9647 - val_loss: 0.2481 - val_accuracy: 0.9262\n",
            "Epoch 20/25\n",
            "150/150 [==============================] - 117s 778ms/step - loss: 0.1103 - accuracy: 0.9657 - val_loss: 0.0809 - val_accuracy: 0.9719\n",
            "Epoch 21/25\n",
            "150/150 [==============================] - 116s 775ms/step - loss: 0.1010 - accuracy: 0.9653 - val_loss: 0.1179 - val_accuracy: 0.9638\n",
            "Epoch 22/25\n",
            "150/150 [==============================] - 116s 774ms/step - loss: 0.1110 - accuracy: 0.9660 - val_loss: 0.0978 - val_accuracy: 0.9725\n",
            "Epoch 23/25\n",
            "150/150 [==============================] - 116s 772ms/step - loss: 0.1086 - accuracy: 0.9673 - val_loss: 0.1590 - val_accuracy: 0.9469\n",
            "Epoch 24/25\n",
            "150/150 [==============================] - 116s 771ms/step - loss: 0.1035 - accuracy: 0.9690 - val_loss: 0.0526 - val_accuracy: 0.9825\n",
            "Epoch 25/25\n",
            "150/150 [==============================] - 116s 772ms/step - loss: 0.0880 - accuracy: 0.9743 - val_loss: 0.1168 - val_accuracy: 0.9619\n"
          ]
        }
      ]
    },
    {
      "cell_type": "code",
      "source": [
        "model.save('model3.h5')"
      ],
      "metadata": {
        "id": "Mw4Xa1WDngU4"
      },
      "execution_count": 22,
      "outputs": []
    },
    {
      "cell_type": "code",
      "source": [
        "import matplotlib.pyplot as plt"
      ],
      "metadata": {
        "id": "uG5FJvX939YU"
      },
      "execution_count": 23,
      "outputs": []
    },
    {
      "cell_type": "code",
      "source": [
        "# plot the training loss and accuracy\n",
        "N = 25\n",
        "plt.style.use(\"ggplot\")\n",
        "plt.figure()\n",
        "plt.plot(np.arange(0, N), history.history[\"loss\"], label=\"train_loss\")\n",
        "plt.plot(np.arange(0, N), history.history[\"accuracy\"], label=\"train_acc\")\n",
        "plt.title(\"Training Loss and Accuracy\")\n",
        "plt.xlabel(\"Epoch #\")\n",
        "plt.ylabel(\"Loss/Accuracy\")\n",
        "plt.legend(loc=\"center right\")\n",
        "plt.savefig(\"CNN_Model\")"
      ],
      "metadata": {
        "colab": {
          "base_uri": "https://localhost:8080/",
          "height": 299
        },
        "id": "XeGj-vyyns80",
        "outputId": "c1432dbd-8b1e-493a-b866-4edde5b16a1e"
      },
      "execution_count": 25,
      "outputs": [
        {
          "output_type": "display_data",
          "data": {
            "image/png": "[encoded data removed]",
            "text/plain": [
              "<Figure size 432x288 with 1 Axes>"
            ]
          },
          "metadata": {}
        }
      ]
    }
  ]
}